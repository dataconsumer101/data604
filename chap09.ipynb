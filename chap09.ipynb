{
 "cells": [
  {
   "cell_type": "markdown",
   "metadata": {},
   "source": [
    "# Modeling and Simulation in Python\n",
    "\n",
    "Chapter 9\n",
    "\n",
    "Copyright 2017 Allen Downey\n",
    "\n",
    "License: [Creative Commons Attribution 4.0 International](https://creativecommons.org/licenses/by/4.0)\n"
   ]
  },
  {
   "cell_type": "code",
   "execution_count": 1,
   "metadata": {},
   "outputs": [],
   "source": [
    "# Configure Jupyter to display the assigned value after an assignment\n",
    "%config InteractiveShell.ast_node_interactivity='last_expr_or_assign'\n",
    "\n",
    "# import everything from SymPy.\n",
    "from sympy import *\n",
    "\n",
    "# Set up Jupyter notebook to display math.\n",
    "init_printing() "
   ]
  },
  {
   "cell_type": "markdown",
   "metadata": {},
   "source": [
    "The following displays SymPy expressions and provides the option of showing results in LaTeX format."
   ]
  },
  {
   "cell_type": "code",
   "execution_count": 2,
   "metadata": {},
   "outputs": [],
   "source": [
    "from sympy.printing import latex\n",
    "\n",
    "def show(expr, show_latex=False):\n",
    "    \"\"\"Display a SymPy expression.\n",
    "    \n",
    "    expr: SymPy expression\n",
    "    show_latex: boolean\n",
    "    \"\"\"\n",
    "    if show_latex:\n",
    "        print(latex(expr))\n",
    "    return expr"
   ]
  },
  {
   "cell_type": "markdown",
   "metadata": {},
   "source": [
    "### Analysis with SymPy"
   ]
  },
  {
   "cell_type": "markdown",
   "metadata": {},
   "source": [
    "Create a symbol for time."
   ]
  },
  {
   "cell_type": "code",
   "execution_count": 3,
   "metadata": {},
   "outputs": [
    {
     "data": {
      "image/png": "[encoded data removed]",
      "text/latex": [
       "$\\displaystyle t$"
      ],
      "text/plain": [
       "t"
      ]
     },
     "execution_count": 3,
     "metadata": {},
     "output_type": "execute_result"
    }
   ],
   "source": [
    "t = symbols('t')"
   ]
  },
  {
   "cell_type": "markdown",
   "metadata": {},
   "source": [
    "If you combine symbols and numbers, you get symbolic expressions."
   ]
  },
  {
   "cell_type": "code",
   "execution_count": 4,
   "metadata": {},
   "outputs": [
    {
     "data": {
      "image/png": "[encoded data removed]",
      "text/latex": [
       "$\\displaystyle t + 1$"
      ],
      "text/plain": [
       "t + 1"
      ]
     },
     "execution_count": 4,
     "metadata": {},
     "output_type": "execute_result"
    }
   ],
   "source": [
    "expr = t + 1"
   ]
  },
  {
   "cell_type": "markdown",
   "metadata": {},
   "source": [
    "The result is an `Add` object, which just represents the sum without trying to compute it."
   ]
  },
  {
   "cell_type": "code",
   "execution_count": 5,
   "metadata": {},
   "outputs": [
    {
     "data": {
      "text/plain": [
       "sympy.core.add.Add"
      ]
     },
     "execution_count": 5,
     "metadata": {},
     "output_type": "execute_result"
    }
   ],
   "source": [
    "type(expr)"
   ]
  },
  {
   "cell_type": "markdown",
   "metadata": {},
   "source": [
    "`subs` can be used to replace a symbol with a number, which allows the addition to proceed."
   ]
  },
  {
   "cell_type": "code",
   "execution_count": 6,
   "metadata": {},
   "outputs": [
    {
     "data": {
      "image/png": "[encoded data removed]",
      "text/latex": [
       "$\\displaystyle 3$"
      ],
      "text/plain": [
       "3"
      ]
     },
     "execution_count": 6,
     "metadata": {},
     "output_type": "execute_result"
    }
   ],
   "source": [
    "expr.subs(t, 2)"
   ]
  },
  {
   "cell_type": "markdown",
   "metadata": {},
   "source": [
    "`f` is a special class of symbol that represents a function."
   ]
  },
  {
   "cell_type": "code",
   "execution_count": 7,
   "metadata": {},
   "outputs": [
    {
     "data": {
      "text/plain": [
       "f"
      ]
     },
     "execution_count": 7,
     "metadata": {},
     "output_type": "execute_result"
    }
   ],
   "source": [
    "f = Function('f')"
   ]
  },
  {
   "cell_type": "markdown",
   "metadata": {},
   "source": [
    "The type of `f` is `UndefinedFunction`"
   ]
  },
  {
   "cell_type": "code",
   "execution_count": 8,
   "metadata": {},
   "outputs": [
    {
     "data": {
      "text/plain": [
       "sympy.core.function.UndefinedFunction"
      ]
     },
     "execution_count": 8,
     "metadata": {},
     "output_type": "execute_result"
    }
   ],
   "source": [
    "type(f)"
   ]
  },
  {
   "cell_type": "markdown",
   "metadata": {},
   "source": [
    "SymPy understands that `f(t)` means `f` evaluated at `t`, but it doesn't try to evaluate it yet."
   ]
  },
  {
   "cell_type": "code",
   "execution_count": 9,
   "metadata": {},
   "outputs": [
    {
     "data": {
      "image/png": "[encoded data removed]",
      "text/latex": [
       "$\\displaystyle f{\\left(t \\right)}$"
      ],
      "text/plain": [
       "f(t)"
      ]
     },
     "execution_count": 9,
     "metadata": {},
     "output_type": "execute_result"
    }
   ],
   "source": [
    "f(t)"
   ]
  },
  {
   "cell_type": "markdown",
   "metadata": {},
   "source": [
    "`diff` returns a `Derivative` object that represents the time derivative of `f`"
   ]
  },
  {
   "cell_type": "code",
   "execution_count": 10,
   "metadata": {},
   "outputs": [
    {
     "data": {
      "image/png": "[encoded data removed]",
      "text/latex": [
       "$\\displaystyle \\frac{d}{d t} f{\\left(t \\right)}$"
      ],
      "text/plain": [
       "d       \n",
       "──(f(t))\n",
       "dt      "
      ]
     },
     "execution_count": 10,
     "metadata": {},
     "output_type": "execute_result"
    }
   ],
   "source": [
    "dfdt = diff(f(t), t)"
   ]
  },
  {
   "cell_type": "code",
   "execution_count": 11,
   "metadata": {},
   "outputs": [
    {
     "data": {
      "text/plain": [
       "sympy.core.function.Derivative"
      ]
     },
     "execution_count": 11,
     "metadata": {},
     "output_type": "execute_result"
    }
   ],
   "source": [
    "type(dfdt)"
   ]
  },
  {
   "cell_type": "markdown",
   "metadata": {},
   "source": [
    "We need a symbol for `alpha`"
   ]
  },
  {
   "cell_type": "code",
   "execution_count": 12,
   "metadata": {},
   "outputs": [
    {
     "data": {
      "image/png": "[encoded data removed]",
      "text/latex": [
       "$\\displaystyle \\alpha$"
      ],
      "text/plain": [
       "α"
      ]
     },
     "execution_count": 12,
     "metadata": {},
     "output_type": "execute_result"
    }
   ],
   "source": [
    "alpha = symbols('alpha')"
   ]
  },
  {
   "cell_type": "markdown",
   "metadata": {},
   "source": [
    "Now we can write the differential equation for proportional growth."
   ]
  },
  {
   "cell_type": "code",
   "execution_count": 13,
   "metadata": {},
   "outputs": [
    {
     "data": {
      "image/png": "[encoded data removed]",
      "text/latex": [
       "$\\displaystyle \\frac{d}{d t} f{\\left(t \\right)} = \\alpha f{\\left(t \\right)}$"
      ],
      "text/plain": [
       "d                \n",
       "──(f(t)) = α⋅f(t)\n",
       "dt               "
      ]
     },
     "execution_count": 13,
     "metadata": {},
     "output_type": "execute_result"
    }
   ],
   "source": [
    "eq1 = Eq(dfdt, alpha*f(t))"
   ]
  },
  {
   "cell_type": "markdown",
   "metadata": {},
   "source": [
    "And use `dsolve` to solve it.  The result is the general solution."
   ]
  },
  {
   "cell_type": "code",
   "execution_count": 14,
   "metadata": {},
   "outputs": [
    {
     "data": {
      "image/png": "[encoded data removed]",
      "text/latex": [
       "$\\displaystyle f{\\left(t \\right)} = C_{1} e^{\\alpha t}$"
      ],
      "text/plain": [
       "           α⋅t\n",
       "f(t) = C₁⋅ℯ   "
      ]
     },
     "execution_count": 14,
     "metadata": {},
     "output_type": "execute_result"
    }
   ],
   "source": [
    "solution_eq = dsolve(eq1)"
   ]
  },
  {
   "cell_type": "code",
   "execution_count": 15,
   "metadata": {},
   "outputs": [],
   "source": [
    "C1, p_0 = symbols('C1 p_0')"
   ]
  },
  {
   "cell_type": "code",
   "execution_count": 16,
   "metadata": {},
   "outputs": [
    {
     "data": {
      "image/png": "[encoded data removed]",
      "text/latex": [
       "$\\displaystyle f{\\left(t \\right)} = p_{0} e^{\\alpha t}$"
      ],
      "text/plain": [
       "           α⋅t\n",
       "f(t) = p₀⋅ℯ   "
      ]
     },
     "execution_count": 16,
     "metadata": {},
     "output_type": "execute_result"
    }
   ],
   "source": [
    "particular = solution_eq.subs(C1, p_0)"
   ]
  },
  {
   "cell_type": "markdown",
   "metadata": {},
   "source": [
    "In the next example, we have to work a little harder to find the particular solution."
   ]
  },
  {
   "cell_type": "markdown",
   "metadata": {},
   "source": [
    "### Solving the quadratic growth equation \n",
    "\n",
    "We'll use the (r, K) parameterization, so we'll need two more symbols:"
   ]
  },
  {
   "cell_type": "markdown",
   "metadata": {},
   "source": [
    "We can tell it's a general solution because it contains an unspecified constant, `C1`.\n",
    "\n",
    "In this example, finding the particular solution is easy: we just replace `C1` with `p_0`"
   ]
  },
  {
   "cell_type": "code",
   "execution_count": 17,
   "metadata": {},
   "outputs": [],
   "source": [
    "r, K = symbols('r K')"
   ]
  },
  {
   "cell_type": "markdown",
   "metadata": {},
   "source": [
    "Now we can write the differential equation."
   ]
  },
  {
   "cell_type": "code",
   "execution_count": 18,
   "metadata": {},
   "outputs": [
    {
     "data": {
      "image/png": "[encoded data removed]",
      "text/latex": [
       "$\\displaystyle \\frac{d}{d t} f{\\left(t \\right)} = r \\left(1 - \\frac{f{\\left(t \\right)}}{K}\\right) f{\\left(t \\right)}$"
      ],
      "text/plain": [
       "d            ⎛    f(t)⎞     \n",
       "──(f(t)) = r⋅⎜1 - ────⎟⋅f(t)\n",
       "dt           ⎝     K  ⎠     "
      ]
     },
     "execution_count": 18,
     "metadata": {},
     "output_type": "execute_result"
    }
   ],
   "source": [
    "eq2 = Eq(diff(f(t), t), r * f(t) * (1 - f(t)/K))"
   ]
  },
  {
   "cell_type": "markdown",
   "metadata": {},
   "source": [
    "And solve it."
   ]
  },
  {
   "cell_type": "code",
   "execution_count": 19,
   "metadata": {},
   "outputs": [
    {
     "data": {
      "image/png": "[encoded data removed]",
      "text/latex": [
       "$\\displaystyle f{\\left(t \\right)} = \\frac{K e^{C_{1} K + r t}}{e^{C_{1} K + r t} - 1}$"
      ],
      "text/plain": [
       "           C₁⋅K + r⋅t \n",
       "        K⋅ℯ           \n",
       "f(t) = ───────────────\n",
       "        C₁⋅K + r⋅t    \n",
       "       ℯ           - 1"
      ]
     },
     "execution_count": 19,
     "metadata": {},
     "output_type": "execute_result"
    }
   ],
   "source": [
    "solution_eq = dsolve(eq2)"
   ]
  },
  {
   "cell_type": "markdown",
   "metadata": {},
   "source": [
    "The result, `solution_eq`, contains `rhs`, which is the right-hand side of the solution."
   ]
  },
  {
   "cell_type": "code",
   "execution_count": 20,
   "metadata": {},
   "outputs": [
    {
     "data": {
      "image/png": "[encoded data removed]",
      "text/latex": [
       "$\\displaystyle \\frac{K e^{C_{1} K + r t}}{e^{C_{1} K + r t} - 1}$"
      ],
      "text/plain": [
       "    C₁⋅K + r⋅t \n",
       " K⋅ℯ           \n",
       "───────────────\n",
       " C₁⋅K + r⋅t    \n",
       "ℯ           - 1"
      ]
     },
     "execution_count": 20,
     "metadata": {},
     "output_type": "execute_result"
    }
   ],
   "source": [
    "general = solution_eq.rhs"
   ]
  },
  {
   "cell_type": "markdown",
   "metadata": {},
   "source": [
    "We can evaluate the right-hand side at $t=0$"
   ]
  },
  {
   "cell_type": "code",
   "execution_count": 21,
   "metadata": {},
   "outputs": [
    {
     "data": {
      "image/png": "[encoded data removed]",
      "text/latex": [
       "$\\displaystyle \\frac{K e^{C_{1} K}}{e^{C_{1} K} - 1}$"
      ],
      "text/plain": [
       "    C₁⋅K \n",
       " K⋅ℯ     \n",
       "─────────\n",
       " C₁⋅K    \n",
       "ℯ     - 1"
      ]
     },
     "execution_count": 21,
     "metadata": {},
     "output_type": "execute_result"
    }
   ],
   "source": [
    "at_0 = general.subs(t, 0)"
   ]
  },
  {
   "cell_type": "markdown",
   "metadata": {},
   "source": [
    "Now we want to find the value of `C1` that makes `f(0) = p_0`.\n",
    "\n",
    "So we'll create the equation `at_0 = p_0` and solve for `C1`.  Because this is just an algebraic identity, not a differential equation, we use `solve`, not `dsolve`.\n",
    "\n",
    "The result from `solve` is a list of solutions.  In this case, [we have reason to expect only one solution](https://en.wikipedia.org/wiki/Picard%E2%80%93Lindel%C3%B6f_theorem), but we still get a list, so we have to use the bracket operator, `[0]`, to select the first one."
   ]
  },
  {
   "cell_type": "code",
   "execution_count": 22,
   "metadata": {},
   "outputs": [
    {
     "data": {
      "text/plain": [
       "(list, 1)"
      ]
     },
     "execution_count": 22,
     "metadata": {},
     "output_type": "execute_result"
    }
   ],
   "source": [
    "solutions = solve(Eq(at_0, p_0), C1)\n",
    "type(solutions), len(solutions)"
   ]
  },
  {
   "cell_type": "code",
   "execution_count": 23,
   "metadata": {},
   "outputs": [
    {
     "data": {
      "image/png": "[encoded data removed]",
      "text/latex": [
       "$\\displaystyle \\frac{\\log{\\left(- \\frac{p_{0}}{K - p_{0}} \\right)}}{K}$"
      ],
      "text/plain": [
       "   ⎛ -p₀  ⎞\n",
       "log⎜──────⎟\n",
       "   ⎝K - p₀⎠\n",
       "───────────\n",
       "     K     "
      ]
     },
     "execution_count": 23,
     "metadata": {},
     "output_type": "execute_result"
    }
   ],
   "source": [
    "value_of_C1 = solutions[0]"
   ]
  },
  {
   "cell_type": "markdown",
   "metadata": {},
   "source": [
    "Now in the general solution, we want to replace `C1` with the value of `C1` we just figured out."
   ]
  },
  {
   "cell_type": "code",
   "execution_count": 24,
   "metadata": {},
   "outputs": [
    {
     "data": {
      "image/png": "[encoded data removed]",
      "text/latex": [
       "$\\displaystyle - \\frac{K p_{0} e^{r t}}{\\left(K - p_{0}\\right) \\left(- \\frac{p_{0} e^{r t}}{K - p_{0}} - 1\\right)}$"
      ],
      "text/plain": [
       "             r⋅t        \n",
       "      -K⋅p₀⋅ℯ           \n",
       "────────────────────────\n",
       "         ⎛      r⋅t    ⎞\n",
       "         ⎜  p₀⋅ℯ       ⎟\n",
       "(K - p₀)⋅⎜- ─────── - 1⎟\n",
       "         ⎝   K - p₀    ⎠"
      ]
     },
     "execution_count": 24,
     "metadata": {},
     "output_type": "execute_result"
    }
   ],
   "source": [
    "particular = general.subs(C1, value_of_C1)"
   ]
  },
  {
   "cell_type": "markdown",
   "metadata": {},
   "source": [
    "The result is complicated, but SymPy provides a method that tries to simplify it."
   ]
  },
  {
   "cell_type": "code",
   "execution_count": 25,
   "metadata": {},
   "outputs": [
    {
     "data": {
      "image/png": "[encoded data removed]",
      "text/latex": [
       "$\\displaystyle \\frac{K p_{0} e^{r t}}{K + p_{0} e^{r t} - p_{0}}$"
      ],
      "text/plain": [
       "         r⋅t    \n",
       "   K⋅p₀⋅ℯ       \n",
       "────────────────\n",
       "        r⋅t     \n",
       "K + p₀⋅ℯ    - p₀"
      ]
     },
     "execution_count": 25,
     "metadata": {},
     "output_type": "execute_result"
    }
   ],
   "source": [
    "particular = simplify(particular)"
   ]
  },
  {
   "cell_type": "markdown",
   "metadata": {},
   "source": [
    "Often simplicity is in the eye of the beholder, but that's about as simple as this expression gets.\n",
    "\n",
    "Just to double-check, we can evaluate it at `t=0` and confirm that we get `p_0`"
   ]
  },
  {
   "cell_type": "code",
   "execution_count": 26,
   "metadata": {},
   "outputs": [
    {
     "data": {
      "image/png": "[encoded data removed]",
      "text/latex": [
       "$\\displaystyle p_{0}$"
      ],
      "text/plain": [
       "p₀"
      ]
     },
     "execution_count": 26,
     "metadata": {},
     "output_type": "execute_result"
    }
   ],
   "source": [
    "particular.subs(t, 0)"
   ]
  },
  {
   "cell_type": "markdown",
   "metadata": {},
   "source": [
    "This solution is called the [logistic function](https://en.wikipedia.org/wiki/Population_growth#Logistic_equation).\n",
    "\n",
    "In some places you'll see it written in a different form:\n",
    "\n",
    "$f(t) = \\frac{K}{1 + A e^{-rt}}$\n",
    "\n",
    "where $A = (K - p_0) / p_0$.\n",
    "\n",
    "We can use SymPy to confirm that these two forms are equivalent.  First we represent the alternative version of the logistic function:"
   ]
  },
  {
   "cell_type": "code",
   "execution_count": 27,
   "metadata": {},
   "outputs": [
    {
     "data": {
      "image/png": "[encoded data removed]",
      "text/latex": [
       "$\\displaystyle \\frac{K - p_{0}}{p_{0}}$"
      ],
      "text/plain": [
       "K - p₀\n",
       "──────\n",
       "  p₀  "
      ]
     },
     "execution_count": 27,
     "metadata": {},
     "output_type": "execute_result"
    }
   ],
   "source": [
    "A = (K - p_0) / p_0"
   ]
  },
  {
   "cell_type": "code",
   "execution_count": 28,
   "metadata": {},
   "outputs": [
    {
     "data": {
      "image/png": "[encoded data removed]",
      "text/latex": [
       "$\\displaystyle \\frac{K}{1 + \\frac{\\left(K - p_{0}\\right) e^{- r t}}{p_{0}}}$"
      ],
      "text/plain": [
       "        K         \n",
       "──────────────────\n",
       "              -r⋅t\n",
       "    (K - p₀)⋅ℯ    \n",
       "1 + ──────────────\n",
       "          p₀      "
      ]
     },
     "execution_count": 28,
     "metadata": {},
     "output_type": "execute_result"
    }
   ],
   "source": [
    "logistic = K / (1 + A * exp(-r*t))"
   ]
  },
  {
   "cell_type": "markdown",
   "metadata": {},
   "source": [
    "To see whether two expressions are equivalent, we can check whether their difference simplifies to 0."
   ]
  },
  {
   "cell_type": "code",
   "execution_count": 29,
   "metadata": {
    "scrolled": true
   },
   "outputs": [
    {
     "data": {
      "image/png": "[encoded data removed]",
      "text/latex": [
       "$\\displaystyle 0$"
      ],
      "text/plain": [
       "0"
      ]
     },
     "execution_count": 29,
     "metadata": {},
     "output_type": "execute_result"
    }
   ],
   "source": [
    "simplify(particular - logistic)"
   ]
  },
  {
   "cell_type": "markdown",
   "metadata": {},
   "source": [
    "This test only works one way: if SymPy says the difference reduces to 0, the expressions are definitely equivalent (and not just numerically close).\n",
    "\n",
    "But if SymPy can't find a way to simplify the result to 0, that doesn't necessarily mean there isn't one.  Testing whether two expressions are equivalent is a surprisingly hard problem; in fact, there is no algorithm that can solve it in general."
   ]
  },
  {
   "cell_type": "markdown",
   "metadata": {},
   "source": [
    "### Exercises\n",
    "\n",
    "**Exercise:** Solve the quadratic growth equation using the alternative parameterization\n",
    "\n",
    "$\\frac{df(t)}{dt} = \\alpha f(t) + \\beta f^2(t) $"
   ]
  },
  {
   "cell_type": "code",
   "execution_count": 30,
   "metadata": {},
   "outputs": [
    {
     "data": {
      "text/plain": [
       "f"
      ]
     },
     "execution_count": 30,
     "metadata": {},
     "output_type": "execute_result"
    }
   ],
   "source": [
    "# Solution goes here\r\n",
    "a = symbols('a')\r\n",
    "B = symbols('B')\r\n",
    "t = symbols('t')\r\n",
    "f = Function('f')"
   ]
  },
  {
   "cell_type": "code",
   "execution_count": 39,
   "metadata": {},
   "outputs": [
    {
     "data": {
      "image/png": "[encoded data removed]",
      "text/latex": [
       "$\\displaystyle \\frac{d}{d t} f{\\left(t \\right)} = B f^{2}{\\left(t \\right)} + a f{\\left(t \\right)}$"
      ],
      "text/plain": [
       "d             2            \n",
       "──(f(t)) = B⋅f (t) + a⋅f(t)\n",
       "dt                         "
      ]
     },
     "execution_count": 39,
     "metadata": {},
     "output_type": "execute_result"
    }
   ],
   "source": [
    "# Solution goes here\r\n",
    "eq = Eq(diff(f(t), t), a * f(t) + B * f(t)**2)"
   ]
  },
  {
   "cell_type": "code",
   "execution_count": 41,
   "metadata": {},
   "outputs": [
    {
     "data": {
      "image/png": "[encoded data removed]",
      "text/latex": [
       "$\\displaystyle f{\\left(t \\right)} = \\frac{a e^{a \\left(C_{1} + t\\right)}}{B \\left(1 - e^{a \\left(C_{1} + t\\right)}\\right)}$"
      ],
      "text/plain": [
       "             a⋅(C₁ + t)   \n",
       "          a⋅ℯ             \n",
       "f(t) = ───────────────────\n",
       "         ⎛     a⋅(C₁ + t)⎞\n",
       "       B⋅⎝1 - ℯ          ⎠"
      ]
     },
     "execution_count": 41,
     "metadata": {},
     "output_type": "execute_result"
    }
   ],
   "source": [
    "# Solution goes here\r\n",
    "solution_eq = dsolve(eq)"
   ]
  },
  {
   "cell_type": "code",
   "execution_count": 42,
   "metadata": {},
   "outputs": [
    {
     "data": {
      "image/png": "[encoded data removed]",
      "text/latex": [
       "$\\displaystyle \\frac{a e^{a \\left(C_{1} + t\\right)}}{B \\left(1 - e^{a \\left(C_{1} + t\\right)}\\right)}$"
      ],
      "text/plain": [
       "      a⋅(C₁ + t)   \n",
       "   a⋅ℯ             \n",
       "───────────────────\n",
       "  ⎛     a⋅(C₁ + t)⎞\n",
       "B⋅⎝1 - ℯ          ⎠"
      ]
     },
     "execution_count": 42,
     "metadata": {},
     "output_type": "execute_result"
    }
   ],
   "source": [
    "# Solution goes here\r\n",
    "general = solution_eq.rhs"
   ]
  },
  {
   "cell_type": "code",
   "execution_count": 43,
   "metadata": {},
   "outputs": [
    {
     "data": {
      "image/png": "[encoded data removed]",
      "text/latex": [
       "$\\displaystyle \\frac{a e^{C_{1} a}}{B \\left(1 - e^{C_{1} a}\\right)}$"
      ],
      "text/plain": [
       "      C₁⋅a   \n",
       "   a⋅ℯ       \n",
       "─────────────\n",
       "  ⎛     C₁⋅a⎞\n",
       "B⋅⎝1 - ℯ    ⎠"
      ]
     },
     "execution_count": 43,
     "metadata": {},
     "output_type": "execute_result"
    }
   ],
   "source": [
    "# Solution goes here\r\n",
    "at_0 = general.subs(t, 0)"
   ]
  },
  {
   "cell_type": "code",
   "execution_count": 45,
   "metadata": {},
   "outputs": [
    {
     "data": {
      "text/plain": [
       "(list, 1)"
      ]
     },
     "execution_count": 45,
     "metadata": {},
     "output_type": "execute_result"
    }
   ],
   "source": [
    "# Solution goes here\r\n",
    "solutions = solve(Eq(at_0, p_0), C1)\r\n",
    "type(solutions), len(solutions)"
   ]
  },
  {
   "cell_type": "code",
   "execution_count": 46,
   "metadata": {},
   "outputs": [
    {
     "data": {
      "image/png": "[encoded data removed]",
      "text/latex": [
       "$\\displaystyle \\frac{\\log{\\left(\\frac{B p_{0}}{B p_{0} + a} \\right)}}{a}$"
      ],
      "text/plain": [
       "   ⎛  B⋅p₀  ⎞\n",
       "log⎜────────⎟\n",
       "   ⎝B⋅p₀ + a⎠\n",
       "─────────────\n",
       "      a      "
      ]
     },
     "execution_count": 46,
     "metadata": {},
     "output_type": "execute_result"
    }
   ],
   "source": [
    "# Solution goes here\r\n",
    "value_of_C1 = solutions[0]"
   ]
  },
  {
   "cell_type": "code",
   "execution_count": 47,
   "metadata": {},
   "outputs": [
    {
     "data": {
      "image/png": "[encoded data removed]",
      "text/latex": [
       "$\\displaystyle \\frac{a e^{a \\left(t + \\frac{\\log{\\left(\\frac{B p_{0}}{B p_{0} + a} \\right)}}{a}\\right)}}{B \\left(1 - e^{a \\left(t + \\frac{\\log{\\left(\\frac{B p_{0}}{B p_{0} + a} \\right)}}{a}\\right)}\\right)}$"
      ],
      "text/plain": [
       "        ⎛       ⎛  B⋅p₀  ⎞⎞   \n",
       "        ⎜    log⎜────────⎟⎟   \n",
       "        ⎜       ⎝B⋅p₀ + a⎠⎟   \n",
       "      a⋅⎜t + ─────────────⎟   \n",
       "        ⎝          a      ⎠   \n",
       "   a⋅ℯ                        \n",
       "──────────────────────────────\n",
       "  ⎛       ⎛       ⎛  B⋅p₀  ⎞⎞⎞\n",
       "  ⎜       ⎜    log⎜────────⎟⎟⎟\n",
       "  ⎜       ⎜       ⎝B⋅p₀ + a⎠⎟⎟\n",
       "  ⎜     a⋅⎜t + ─────────────⎟⎟\n",
       "  ⎜       ⎝          a      ⎠⎟\n",
       "B⋅⎝1 - ℯ                     ⎠"
      ]
     },
     "execution_count": 47,
     "metadata": {},
     "output_type": "execute_result"
    }
   ],
   "source": [
    "particular = general.subs(C1, value_of_C1)"
   ]
  },
  {
   "cell_type": "code",
   "execution_count": 51,
   "metadata": {},
   "outputs": [
    {
     "data": {
      "image/png": "[encoded data removed]",
      "text/latex": [
       "$\\displaystyle \\frac{a p_{0} e^{a t}}{- B p_{0} e^{a t} + B p_{0} + a}$"
      ],
      "text/plain": [
       "            a⋅t       \n",
       "      a⋅p₀⋅ℯ          \n",
       "──────────────────────\n",
       "        a⋅t           \n",
       "- B⋅p₀⋅ℯ    + B⋅p₀ + a"
      ]
     },
     "execution_count": 51,
     "metadata": {},
     "output_type": "execute_result"
    }
   ],
   "source": [
    "particular = simplify(particular)"
   ]
  },
  {
   "cell_type": "code",
   "execution_count": 49,
   "metadata": {},
   "outputs": [
    {
     "data": {
      "image/png": "[encoded data removed]",
      "text/latex": [
       "$\\displaystyle p_{0}$"
      ],
      "text/plain": [
       "p₀"
      ]
     },
     "execution_count": 49,
     "metadata": {},
     "output_type": "execute_result"
    }
   ],
   "source": [
    "particular.subs(t, 0)"
   ]
  },
  {
   "cell_type": "markdown",
   "metadata": {},
   "source": [
    "**Exercise:**  Use [WolframAlpha](https://www.wolframalpha.com/) to solve the quadratic growth model, using either or both forms of parameterization:\r\n",
    "\r\n",
    "    df(t) / dt = alpha f(t) + beta f(t)^2\r\n",
    "\r\n",
    "or\r\n",
    "\r\n",
    "    df(t) / dt = r f(t) (1 - f(t)/K)\r\n",
    "\r\n",
    "Find the general solution and also the particular solution where `f(0) = p_0`.\r\n",
    "\r\n",
    "https://www.wolframalpha.com/input/?i=df%28t%29+%2F+dt+%3D+alpha+f%28t%29+%2B+beta+f%28t%29%5E2"
   ]
  },
  {
   "cell_type": "code",
   "execution_count": 53,
   "metadata": {},
   "outputs": [
    {
     "name": "stdout",
     "output_type": "stream",
     "text": [
      "f(t) = -(α e^(α c_1 + α t))/(β e^(α c_1 + α t) - 1)\n"
     ]
    }
   ],
   "source": [
    "print('f(t) = -(α e^(α c_1 + α t))/(β e^(α c_1 + α t) - 1)')"
   ]
  }
 ],
 "metadata": {
  "interpreter": {
   "hash": "2dada4bffa0da632d20df77e8a0e74b73d401be8c4c7c4391624ad7fccea72fc"
  },
  "kernelspec": {
   "display_name": "Python 3.8.1 64-bit",
   "name": "python3"
  },
  "language_info": {
   "codemirror_mode": {
    "name": "ipython",
    "version": 3
   },
   "file_extension": ".py",
   "mimetype": "text/x-python",
   "name": "python",
   "nbconvert_exporter": "python",
   "pygments_lexer": "ipython3",
   "version": "3.8.1"
  }
 },
 "nbformat": 4,
 "nbformat_minor": 2
}