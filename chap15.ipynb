{
 "cells": [
  {
   "cell_type": "markdown",
   "metadata": {},
   "source": [
    "# Chapter 15"
   ]
  },
  {
   "cell_type": "markdown",
   "metadata": {
    "tags": []
   },
   "source": [
    "*Modeling and Simulation in Python*\n",
    "\n",
    "Copyright 2021 Allen Downey\n",
    "\n",
    "License: [Creative Commons Attribution-NonCommercial-ShareAlike 4.0 International](https://creativecommons.org/licenses/by-nc-sa/4.0/)"
   ]
  },
  {
   "cell_type": "code",
   "execution_count": 1,
   "metadata": {
    "tags": []
   },
   "outputs": [
    {
     "name": "stdout",
     "output_type": "stream",
     "text": [
      "Downloaded modsim.py\n"
     ]
    }
   ],
   "source": [
    "# download modsim.py if necessary\n",
    "\n",
    "from os.path import basename, exists\n",
    "\n",
    "def download(url):\n",
    "    filename = basename(url)\n",
    "    if not exists(filename):\n",
    "        from urllib.request import urlretrieve\n",
    "        local, _ = urlretrieve(url, filename)\n",
    "        print('Downloaded ' + local)\n",
    "    \n",
    "download('https://github.com/AllenDowney/ModSimPy/raw/master/' +\n",
    "         'modsim.py')"
   ]
  },
  {
   "cell_type": "code",
   "execution_count": 2,
   "metadata": {
    "tags": []
   },
   "outputs": [],
   "source": [
    "# import functions from modsim\n",
    "\n",
    "from modsim import *"
   ]
  },
  {
   "cell_type": "markdown",
   "metadata": {},
   "source": [
    "This chapter is available as a Jupyter notebook where you can read the text, run the code, and work on the exercises. \n",
    "Click here to access the notebooks: <https://allendowney.github.io/ModSimPy/>."
   ]
  },
  {
   "cell_type": "markdown",
   "metadata": {},
   "source": [
    "So far the systems we have studied have been physical in the sense that they exist in the world, but they have not been physics in the sense of what physics classes are usually about. In the next few chapters, we'll do some physics, starting with *thermal systems*, that is, systems where the temperature of objects changes as heat transfers from one to another."
   ]
  },
  {
   "cell_type": "markdown",
   "metadata": {},
   "source": [
    "## The Coffee Cooling Problem\n",
    "\n",
    "The coffee cooling problem was discussed by Jearl Walker in \n",
    "\"The Amateur Scientist\", *Scientific American*, Volume 237, Issue 5, November 1977. Since then it has become a standard example of modeling and simulation.\n",
    "\n",
    "Here is my version of the problem:\n",
    "\n",
    "> Suppose I stop on the way to work to pick up a cup of coffee, which I take with milk. Assuming that I want the coffee to be as hot as possible when I arrive at work, should I add the milk at the coffee shop, wait until I get to work, or add the milk at some point in between?"
   ]
  },
  {
   "cell_type": "markdown",
   "metadata": {},
   "source": [
    "To help answer this question, I made a trial run with the milk and\n",
    "coffee in separate containers and took some measurements (not really):\n",
    "\n",
    "-   When served, the temperature of the coffee is 90 °C. The volume is\n",
    "    300 mL.\n",
    "\n",
    "-   The milk is at an initial temperature of 5 °C, and I take about\n",
    "    50 mL.\n",
    "\n",
    "-   The ambient temperature in my car is 22 °C.\n",
    "\n",
    "-   The coffee is served in a well insulated cup. When I arrive at work after 30 minutes, the temperature of the coffee has fallen to 70 °C.\n",
    "\n",
    "-   The milk container is not as well insulated. After 15 minutes, it\n",
    "    warms up to 20 °C, nearly the ambient temperature.\n",
    "\n",
    "To use this data and answer the question, we have to know something\n",
    "about temperature and heat, and we have to make some modeling decisions."
   ]
  },
  {
   "cell_type": "markdown",
   "metadata": {},
   "source": [
    "## Temperature and Heat\n",
    "\n",
    "To understand how coffee cools (and milk warms), we need a model of\n",
    "temperature and heat. *Temperature* is a property of an object or a\n",
    "system; in SI units it is measured in degrees Celsius (°C). Temperature quantifies how hot or cold the object is, which is related to the average velocity of the particles that make it up.\n",
    "\n",
    "When particles in a hot object contact particles in a cold object, the\n",
    "hot object gets cooler and the cold object gets warmer as energy is\n",
    "transferred from one to the other. The transferred energy is called\n",
    "*heat*; in SI units it is measured in joules (J).\n",
    "\n",
    "Heat is related to temperature by the following equation (see\n",
    "<http://modsimpy.com/thermass>): \n",
    "\n",
    "$$Q = C~\\Delta T$$ \n",
    "\n",
    "where $Q$ is the amount of heat transferred to an object, $\\Delta T$ is resulting change in temperature, and $C$ is the *thermal mass* of the object, which quantifies how much energy it takes to heat or cool it. In SI units, thermal mass is measured in joules per degree Celsius (J/°C)."
   ]
  },
  {
   "cell_type": "markdown",
   "metadata": {},
   "source": [
    "For objects made primarily from one material, thermal mass can be\n",
    "computed like this: \n",
    "\n",
    "$$C = m c_p$$ \n",
    "\n",
    "where $m$ is the mass of the object and $c_p$ is the *specific heat capacity* of the material (see <http://modsimpy.com/specheat>).\n",
    "\n",
    "We can use these equations to estimate the thermal mass of a cup of\n",
    "coffee. The specific heat capacity of coffee is probably close to that\n",
    "of water, which is 4.2 J/g/°C. Assuming that the density of coffee is\n",
    "close to that of water, which is 1 g/mL, the mass of 300 mL of coffee is 300 g, and the thermal mass is 1260 J/°C.\n",
    "\n",
    "So when a cup of coffee cools from 90 °C to 70 °C, the change in\n",
    "temperature, $\\Delta T$ is 20 °C, which means that 25 200 J of heat\n",
    "energy was transferred from the coffee to the surrounding environment\n",
    "(the cup holder and air in my car).\n",
    "\n",
    "To give you a sense of how much energy that is, if you were able to\n",
    "harness all of that heat to do work (which you cannot), you could\n",
    "use it to lift a cup of coffee from sea level to 8571 m, just shy of the height of Mount Everest, 8848 m.\n",
    "\n",
    "Assuming that the cup has less mass than the coffee, and is made from a material with lower specific heat, we can ignore the thermal mass of the cup. For a cup with substantial thermal mass, like a ceramic mug, we might consider a model that computes the temperature of coffee and cup separately."
   ]
  },
  {
   "cell_type": "markdown",
   "metadata": {},
   "source": [
    "## Heat Transfer\n",
    "\n",
    "In a situation like the coffee cooling problem, there are three ways\n",
    "heat transfers from one object to another (see <http://modsimpy.com/transfer>):\n",
    "\n",
    "-   Conduction: When objects at different temperatures come into\n",
    "    contact, the faster-moving particles of the higher-temperature\n",
    "    object transfer kinetic energy to the slower-moving particles of the lower-temperature object.\n",
    "\n",
    "-   Convection: When particles in a gas or liquid flow from place to\n",
    "    place, they carry heat energy with them. Fluid flows can be caused\n",
    "    by external action, like stirring, or by internal differences in\n",
    "    temperature. For example, you might have heard that hot air rises,\n",
    "    which is a form of \"natural convection\".\n",
    "\n",
    "-   Radiation: As the particles in an object move due to thermal energy,\n",
    "    they emit electromagnetic radiation. The energy carried by this\n",
    "    radiation depends on the object's temperature and surface properties\n",
    "    (see <http://modsimpy.com/thermrad>)."
   ]
  },
  {
   "cell_type": "markdown",
   "metadata": {},
   "source": [
    "For objects like coffee in a car, the effect of radiation is much\n",
    "smaller than the effects of conduction and convection, so we will ignore it.\n",
    "\n",
    "Convection can be a complex topic, since it often depends on details of fluid flow in three dimensions. But for this problem we will be able to get away with a simple model called \"Newton's law of cooling\"."
   ]
  },
  {
   "cell_type": "markdown",
   "metadata": {},
   "source": [
    "## Newton's Law of Cooling\n",
    "\n",
    "Newton's law of cooling asserts that the temperature rate of change for an object is proportional to the difference in temperature between the object and the surrounding environment:\n",
    "\n",
    "$$\\frac{dT}{dt} = -r (T - T_{env})$$ \n",
    "\n",
    "where $T$, the temperature of the object, is a function of time, $t$, $T_{env}$ is the temperature of the environment, and $r$ is a constant that characterizes how quickly heat is transferred between the system and the environment."
   ]
  },
  {
   "cell_type": "markdown",
   "metadata": {},
   "source": [
    "Newton's so-called \"law \" is really a model: it is a good approximation in some conditions and less good in others.\n",
    "\n",
    "For example, if the primary mechanism of heat transfer is conduction,\n",
    "Newton's law is \"true\", which is to say that $r$ is constant over a\n",
    "wide range of temperatures. And sometimes we can estimate $r$ based on\n",
    "the material properties and shape of the object.\n",
    "\n",
    "When convection contributes a non-negligible fraction of heat transfer, $r$ depends on temperature, but Newton's law is often accurate enough, at least over a narrow range of temperatures. In this case $r$ usually has to be estimated experimentally, since it depends on details of surface shape, air flow, evaporation, etc.\n",
    "\n",
    "When radiation makes up a substantial part of heat transfer, Newton's\n",
    "law is not a good model at all. This is the case for objects in space or in a vacuum, and for objects at high temperatures (more than a few\n",
    "hundred degrees Celsius, say).\n",
    "\n",
    "However, for a situation like the coffee cooling problem, we expect\n",
    "Newton's model to be quite good."
   ]
  },
  {
   "cell_type": "markdown",
   "metadata": {},
   "source": [
    "## Implementation\n",
    "\n",
    "To get started, let's forget about the milk temporarily and focus on the coffee.\n",
    "Here's a function that takes the parameters of the system and makes a `System` object:"
   ]
  },
  {
   "cell_type": "code",
   "execution_count": 3,
   "metadata": {
    "tags": []
   },
   "outputs": [],
   "source": [
    "def make_system(T_init, volume, r, t_end):\n",
    "    return System(T_init=T_init,\n",
    "                  T_final=T_init,\n",
    "                  volume=volume,\n",
    "                  r=r,\n",
    "                  t_end=t_end,\n",
    "                  T_env=22,\n",
    "                  t_0=0,\n",
    "                  dt=1)"
   ]
  },
  {
   "cell_type": "markdown",
   "metadata": {},
   "source": [
    "In addition to the parameters, `make_system` sets the temperature of the environment, `T_env`, the initial time stamp, `t_0`, and the time step, `dt`, which we will use use to simulate the cooling process.\n",
    "Here's a `System` object that represents the coffee."
   ]
  },
  {
   "cell_type": "code",
   "execution_count": 4,
   "metadata": {},
   "outputs": [],
   "source": [
    "coffee = make_system(T_init=90, volume=300, r=0.01, t_end=30)"
   ]
  },
  {
   "cell_type": "markdown",
   "metadata": {},
   "source": [
    "The values of `T_init`, `volume`, and `t_end` come from the statement of the problem.\n",
    "I chose the value of `r` arbitrarily for now; we will see how to estimate it soon.\n",
    "\n",
    "Strictly speaking, Newton's law is a differential equation, but over a short period of time we can approximate it with a difference equation:\n",
    "\n",
    "$$\\Delta T = -r (T - T_{env}) dt$$ \n",
    "\n",
    "where $dt$ is the time step and $\\Delta T$ is the change in temperature during that time step.\n",
    "\n",
    "Note: I use $\\Delta T$ to denote a change in temperature over time, but in the context of heat transfer, you might also see $\\Delta T$ used to denote the difference in temperature between an object and its\n",
    "environment, $T - T_{env}$. To minimize confusion, I avoid this second\n",
    "use.\n",
    "\n",
    "The following function takes the current time `t`, the current temperature, `T`, and a `System` object, and computes the change in temperature during a time step:"
   ]
  },
  {
   "cell_type": "code",
   "execution_count": 5,
   "metadata": {
    "tags": []
   },
   "outputs": [],
   "source": [
    "def change_func(t, T, system):\n",
    "    r, T_env, dt = system.r, system.T_env, system.dt    \n",
    "    return -r * (T - T_env) * dt"
   ]
  },
  {
   "cell_type": "markdown",
   "metadata": {},
   "source": [
    "We can test it with the initial temperature of the coffee, like this:"
   ]
  },
  {
   "cell_type": "code",
   "execution_count": 6,
   "metadata": {},
   "outputs": [
    {
     "data": {
      "text/plain": [
       "-0.68"
      ]
     },
     "execution_count": 6,
     "metadata": {},
     "output_type": "execute_result"
    }
   ],
   "source": [
    "change_func(0, coffee.T_init, coffee)"
   ]
  },
  {
   "cell_type": "markdown",
   "metadata": {},
   "source": [
    "With `dt=1` minute, the temperature drops by about 0.7 °C, at least for this value of `r`.\n",
    "\n",
    "Now here's a version of `run_simulation` that simulates a series of time steps from `t_0` to `t_end`:"
   ]
  },
  {
   "cell_type": "code",
   "execution_count": 7,
   "metadata": {
    "tags": []
   },
   "outputs": [],
   "source": [
    "def run_simulation(system, change_func):\n",
    "    t_array = linrange(system.t_0, system.t_end, system.dt)\n",
    "    n = len(t_array)\n",
    "    \n",
    "    series = TimeSeries(index=t_array)\n",
    "    series.iloc[0] = system.T_init\n",
    "    \n",
    "    for i in range(n-1):\n",
    "        t = t_array[i]\n",
    "        T = series.iloc[i]\n",
    "        series.iloc[i+1] = T + change_func(t, T, system)\n",
    "    \n",
    "    system.T_final = series.iloc[-1]\n",
    "    return series"
   ]
  },
  {
   "cell_type": "markdown",
   "metadata": {},
   "source": [
    "There are a two things here that are different from previous versions of `run_simulation`.\n",
    "\n",
    "First, we use  `linrange` to make an array of values from `t_0` to `t_end` with time step `dt`.  \n",
    "`linrange` is similar to `linspace`; they both take a start value and an end value and return an array of equally spaced values.\n",
    "The difference is the third argument: `linspace` takes an integer that indicates the number of points in the range; `linrange` takes a step size that indicates the interval between values.\n",
    "When we make the `TimeSeries`, we use the keyword argument `index` to indicate that the index of the `TimeSeries` is the array of time stamps, `t_array`."
   ]
  },
  {
   "cell_type": "markdown",
   "metadata": {},
   "source": [
    "Second, this version of `run_simulation` uses `iloc` rather than `loc` to specify the rows in the `TimeSeries`.\n",
    "Here's the difference: \n",
    "\n",
    "* With `loc`, the label in brackets can be any kind of value, with any start, end, and time step.  For example, in the world population model, the labels are years starting in 1960 and ending in 2016.\n",
    "\n",
    "* With `iloc`, the label in brackets is always an integer starting at 0.  So we can always get the first element with `iloc[0]` and the last element with `iloc[-1]`, regardless of what the labels are.\n",
    "\n",
    "In this version of `run_simulation`, the loop variable is an integer, `i`, that goes from `0` to `n-1`, including `0` but not including `n-1`.\n",
    "So the first time through the loop, `i` is `0` and the value we add to the `TimeSeries` has index 1.\n",
    "The last time through the loop, `i` is `n-2` and the value we add has index `n-1`.\n",
    "\n",
    "We can run the simulation like this:"
   ]
  },
  {
   "cell_type": "code",
   "execution_count": 8,
   "metadata": {},
   "outputs": [],
   "source": [
    "results = run_simulation(coffee, change_func)"
   ]
  },
  {
   "cell_type": "markdown",
   "metadata": {},
   "source": [
    "The result is a `TimeSeries` with one row per time step. \n",
    "Here are the first few rows:"
   ]
  },
  {
   "cell_type": "code",
   "execution_count": 9,
   "metadata": {},
   "outputs": [
    {
     "data": {
      "text/html": [
       "<div>\n",
       "<style scoped>\n",
       "    .dataframe tbody tr th:only-of-type {\n",
       "        vertical-align: middle;\n",
       "    }\n",
       "\n",
       "    .dataframe tbody tr th {\n",
       "        vertical-align: top;\n",
       "    }\n",
       "\n",
       "    .dataframe thead th {\n",
       "        text-align: right;\n",
       "    }\n",
       "</style>\n",
       "<table border=\"1\" class=\"dataframe\">\n",
       "  <thead>\n",
       "    <tr style=\"text-align: right;\">\n",
       "      <th></th>\n",
       "      <th>Quantity</th>\n",
       "    </tr>\n",
       "    <tr>\n",
       "      <th>Time</th>\n",
       "      <th></th>\n",
       "    </tr>\n",
       "  </thead>\n",
       "  <tbody>\n",
       "    <tr>\n",
       "      <th>0.0</th>\n",
       "      <td>90.000000</td>\n",
       "    </tr>\n",
       "    <tr>\n",
       "      <th>1.0</th>\n",
       "      <td>89.320000</td>\n",
       "    </tr>\n",
       "    <tr>\n",
       "      <th>2.0</th>\n",
       "      <td>88.646800</td>\n",
       "    </tr>\n",
       "    <tr>\n",
       "      <th>3.0</th>\n",
       "      <td>87.980332</td>\n",
       "    </tr>\n",
       "    <tr>\n",
       "      <th>4.0</th>\n",
       "      <td>87.320529</td>\n",
       "    </tr>\n",
       "  </tbody>\n",
       "</table>\n",
       "</div>"
      ],
      "text/plain": [
       "       Quantity\n",
       "Time           \n",
       "0.0   90.000000\n",
       "1.0   89.320000\n",
       "2.0   88.646800\n",
       "3.0   87.980332\n",
       "4.0   87.320529"
      ]
     },
     "execution_count": 9,
     "metadata": {},
     "output_type": "execute_result"
    }
   ],
   "source": [
    "show(results.head())"
   ]
  },
  {
   "cell_type": "markdown",
   "metadata": {},
   "source": [
    "And the last few rows:"
   ]
  },
  {
   "cell_type": "code",
   "execution_count": 10,
   "metadata": {},
   "outputs": [
    {
     "data": {
      "text/html": [
       "<div>\n",
       "<style scoped>\n",
       "    .dataframe tbody tr th:only-of-type {\n",
       "        vertical-align: middle;\n",
       "    }\n",
       "\n",
       "    .dataframe tbody tr th {\n",
       "        vertical-align: top;\n",
       "    }\n",
       "\n",
       "    .dataframe thead th {\n",
       "        text-align: right;\n",
       "    }\n",
       "</style>\n",
       "<table border=\"1\" class=\"dataframe\">\n",
       "  <thead>\n",
       "    <tr style=\"text-align: right;\">\n",
       "      <th></th>\n",
       "      <th>Quantity</th>\n",
       "    </tr>\n",
       "    <tr>\n",
       "      <th>Time</th>\n",
       "      <th></th>\n",
       "    </tr>\n",
       "  </thead>\n",
       "  <tbody>\n",
       "    <tr>\n",
       "      <th>26.0</th>\n",
       "      <td>74.362934</td>\n",
       "    </tr>\n",
       "    <tr>\n",
       "      <th>27.0</th>\n",
       "      <td>73.839305</td>\n",
       "    </tr>\n",
       "    <tr>\n",
       "      <th>28.0</th>\n",
       "      <td>73.320912</td>\n",
       "    </tr>\n",
       "    <tr>\n",
       "      <th>29.0</th>\n",
       "      <td>72.807702</td>\n",
       "    </tr>\n",
       "    <tr>\n",
       "      <th>30.0</th>\n",
       "      <td>72.299625</td>\n",
       "    </tr>\n",
       "  </tbody>\n",
       "</table>\n",
       "</div>"
      ],
      "text/plain": [
       "       Quantity\n",
       "Time           \n",
       "26.0  74.362934\n",
       "27.0  73.839305\n",
       "28.0  73.320912\n",
       "29.0  72.807702\n",
       "30.0  72.299625"
      ]
     },
     "execution_count": 10,
     "metadata": {},
     "output_type": "execute_result"
    }
   ],
   "source": [
    "show(results.tail())"
   ]
  },
  {
   "cell_type": "markdown",
   "metadata": {},
   "source": [
    "With `t_0=0`, `t_end=30`, and `dt=1`, the time stamps go from `0.0` to `30.0`.\n",
    "\n",
    "Here's what the `TimeSeries` looks like."
   ]
  },
  {
   "cell_type": "code",
   "execution_count": 11,
   "metadata": {},
   "outputs": [
    {
     "data": {
      "image/png": "[encoded data removed]",
      "text/plain": [
       "<Figure size 432x288 with 1 Axes>"
      ]
     },
     "metadata": {
      "needs_background": "light"
     },
     "output_type": "display_data"
    }
   ],
   "source": [
    "results.plot(label='coffee')\n",
    "\n",
    "decorate(xlabel='Time (minute)',\n",
    "         ylabel='Temperature (C)',\n",
    "         title='Coffee Cooling')"
   ]
  },
  {
   "cell_type": "markdown",
   "metadata": {},
   "source": [
    "The temperature after 30 minutes is 72.3 °C, which is a little higher than what's stated in the problem, 70 °C. "
   ]
  },
  {
   "cell_type": "code",
   "execution_count": 12,
   "metadata": {},
   "outputs": [
    {
     "data": {
      "text/plain": [
       "72.2996253904031"
      ]
     },
     "execution_count": 12,
     "metadata": {},
     "output_type": "execute_result"
    }
   ],
   "source": [
    "coffee.T_final"
   ]
  },
  {
   "cell_type": "markdown",
   "metadata": {},
   "source": [
    "By trial and error, we could find the value of `r` where the final temperature is precisely 70 °C.\n",
    "But it is more efficient to use a root-finding algorithm."
   ]
  },
  {
   "cell_type": "markdown",
   "metadata": {},
   "source": [
    "## Finding Roots\n",
    "\n",
    "The ModSim library provides a function called `root_scalar` that finds the roots of non-linear equations. As an example, suppose you want to find the roots of the polynomial \n",
    "\n",
    "$$f(x) = (x - 1)(x - 2)(x - 3)$$ \n",
    "\n",
    "A *root* is a value of $x$ that makes $f(x)=0$. Because of the way I wrote this polynomial, we can see that if $x=1$, the first factor is 0; if $x=2$, the second factor is 0; and if $x=3$, the third factor is 0, so those are the roots.\n",
    "\n",
    "I'll use this example to demonstrate `root_scalar`. First, we have to\n",
    "write a function that evaluates $f$:"
   ]
  },
  {
   "cell_type": "code",
   "execution_count": 13,
   "metadata": {},
   "outputs": [],
   "source": [
    "def func(x):\n",
    "    return (x-1) * (x-2) * (x-3)"
   ]
  },
  {
   "cell_type": "markdown",
   "metadata": {},
   "source": [
    "Now we call `root_scalar` like this:"
   ]
  },
  {
   "cell_type": "code",
   "execution_count": 14,
   "metadata": {},
   "outputs": [
    {
     "data": {
      "text/plain": [
       "      converged: True\n",
       "           flag: 'converged'\n",
       " function_calls: 3\n",
       "     iterations: 2\n",
       "           root: 2.0"
      ]
     },
     "execution_count": 14,
     "metadata": {},
     "output_type": "execute_result"
    }
   ],
   "source": [
    "res = root_scalar(func, bracket=[1.5, 2.5])\n",
    "res"
   ]
  },
  {
   "cell_type": "markdown",
   "metadata": {},
   "source": [
    "The first argument is the function whose roots we want. The second\n",
    "argument is an interval that contains or \"brackets\" a root. The result is an object that contains several variables, including `root`, which is the root that was found."
   ]
  },
  {
   "cell_type": "code",
   "execution_count": 15,
   "metadata": {},
   "outputs": [
    {
     "data": {
      "text/plain": [
       "2.0"
      ]
     },
     "execution_count": 15,
     "metadata": {},
     "output_type": "execute_result"
    }
   ],
   "source": [
    "res.root"
   ]
  },
  {
   "cell_type": "markdown",
   "metadata": {},
   "source": [
    "If we provide a different interval, we find a different root."
   ]
  },
  {
   "cell_type": "code",
   "execution_count": 16,
   "metadata": {},
   "outputs": [
    {
     "data": {
      "text/plain": [
       "2.9999771663211003"
      ]
     },
     "execution_count": 16,
     "metadata": {},
     "output_type": "execute_result"
    }
   ],
   "source": [
    "res = root_scalar(func, bracket=[2.5, 3.5])\n",
    "res.root"
   ]
  },
  {
   "cell_type": "markdown",
   "metadata": {},
   "source": [
    "If the interval doesn't contain a root, you'll get a `ValueError` and a message like \"f(a) and f(b) must have different signs\".\n",
    "\n",
    "```\n",
    "res = root_scalar(func, bracket=[4, 5])\n",
    "```"
   ]
  },
  {
   "cell_type": "markdown",
   "metadata": {},
   "source": [
    "Now we can use `root_scalar` to estimate `r`."
   ]
  },
  {
   "cell_type": "markdown",
   "metadata": {},
   "source": [
    "## Estimating `r`\n",
    "\n",
    "What we want is the value of `r` that yields a final temperature of\n",
    "70 °C. To use `root_scalar`, we need a function that takes `r` as a parameter and returns the difference between the final temperature and the goal:"
   ]
  },
  {
   "cell_type": "code",
   "execution_count": 17,
   "metadata": {},
   "outputs": [],
   "source": [
    "def error_func(r, system):\n",
    "    system.r = r\n",
    "    results = run_simulation(system, change_func)\n",
    "    return system.T_final - 70"
   ]
  },
  {
   "cell_type": "markdown",
   "metadata": {},
   "source": [
    "This is called an \"error function\" because it returns the\n",
    "difference between what we got and what we wanted, that is, the error.\n",
    "With the right value of `r`, the error is 0.\n",
    "\n",
    "We can test `error_func` like this, using the initial guess `r=0.01`:"
   ]
  },
  {
   "cell_type": "code",
   "execution_count": 18,
   "metadata": {},
   "outputs": [
    {
     "data": {
      "text/plain": [
       "2.2996253904030937"
      ]
     },
     "execution_count": 18,
     "metadata": {},
     "output_type": "execute_result"
    }
   ],
   "source": [
    "coffee = make_system(T_init=90, volume=300, r=0.01, t_end=30)\n",
    "error_func(0.01, coffee)"
   ]
  },
  {
   "cell_type": "markdown",
   "metadata": {},
   "source": [
    "The result is an error of 2.3 °C, which means the final temperature with `r=0.01` is too high."
   ]
  },
  {
   "cell_type": "code",
   "execution_count": 19,
   "metadata": {},
   "outputs": [
    {
     "data": {
      "text/plain": [
       "-10.907066281994297"
      ]
     },
     "execution_count": 19,
     "metadata": {},
     "output_type": "execute_result"
    }
   ],
   "source": [
    "error_func(0.02, coffee)"
   ]
  },
  {
   "cell_type": "markdown",
   "metadata": {},
   "source": [
    "With `r=0.02`, the error is  about -11°C, which means that the final temperature is too low. So we know that the correct value must be in between.\n",
    "\n",
    "Now we can call `root_scalar` like this:"
   ]
  },
  {
   "cell_type": "code",
   "execution_count": 20,
   "metadata": {},
   "outputs": [
    {
     "data": {
      "text/plain": [
       "'converged'"
      ]
     },
     "execution_count": 20,
     "metadata": {},
     "output_type": "execute_result"
    }
   ],
   "source": [
    "res = root_scalar(error_func, coffee, bracket=[0.01, 0.02])\n",
    "res.flag"
   ]
  },
  {
   "cell_type": "markdown",
   "metadata": {},
   "source": [
    "The first argument is the error function.\n",
    "The second argument is the `System` object, which `root_scalar` passes as an argument to `error_func`.\n",
    "The third argument is an interval that brackets the root.\n",
    "\n",
    "Here are the results."
   ]
  },
  {
   "cell_type": "code",
   "execution_count": 21,
   "metadata": {},
   "outputs": [
    {
     "data": {
      "text/plain": [
       "0.011543084190599507"
      ]
     },
     "execution_count": 21,
     "metadata": {},
     "output_type": "execute_result"
    }
   ],
   "source": [
    "r_coffee = res.root\n",
    "r_coffee"
   ]
  },
  {
   "cell_type": "markdown",
   "metadata": {},
   "source": [
    "In this example, `r_coffee` turns out to be about `0.0115`, in units of min$^{-1}$ (inverse minutes).\n",
    "We can confirm that this value is correct by setting `r` to the root we found and running the simulation."
   ]
  },
  {
   "cell_type": "code",
   "execution_count": 22,
   "metadata": {},
   "outputs": [
    {
     "data": {
      "text/plain": [
       "70.00000057308064"
      ]
     },
     "execution_count": 22,
     "metadata": {},
     "output_type": "execute_result"
    }
   ],
   "source": [
    "coffee.r = res.root\n",
    "run_simulation(coffee, change_func)\n",
    "coffee.T_final"
   ]
  },
  {
   "cell_type": "markdown",
   "metadata": {},
   "source": [
    "The final temperature is very close to 70 °C."
   ]
  },
  {
   "cell_type": "markdown",
   "metadata": {},
   "source": [
    "## Exercises"
   ]
  },
  {
   "cell_type": "markdown",
   "metadata": {},
   "source": [
    "### Exercise 1\n",
    "\n",
    "Simulate the temperature of 50 mL of milk with a starting temperature of 5 °C, in a vessel with `r=0.1`, for 15 minutes, and plot the results.\n",
    "By trial and error, find a value for `r` that makes the final temperature close to 20 °C."
   ]
  },
  {
   "cell_type": "code",
   "execution_count": 24,
   "metadata": {},
   "outputs": [],
   "source": [
    "# Solution goes here\r\n",
    "milk = make_system(T_init = 5, volume = 50, r = 0.1, t_end = 15)\r\n",
    "results = run_simulation(milk, change_func)"
   ]
  },
  {
   "cell_type": "code",
   "execution_count": 26,
   "metadata": {},
   "outputs": [
    {
     "data": {
      "image/png": "[encoded data removed]",
      "text/plain": [
       "<Figure size 432x288 with 1 Axes>"
      ]
     },
     "metadata": {
      "needs_background": "light"
     },
     "output_type": "display_data"
    }
   ],
   "source": [
    "# Solution goes here\r\n",
    "results.plot(label='milk')\r\n",
    "\r\n",
    "decorate(xlabel='Time (minute)',\r\n",
    "         ylabel='Temperature (C)',\r\n",
    "         title='Coffee Warming')"
   ]
  },
  {
   "cell_type": "markdown",
   "metadata": {},
   "source": [
    "### Exercise 2\n",
    "\n",
    "Write an error function that simulates the temperature of the milk and returns the difference between the final temperature and 20 °C.  Use it to estimate the value of `r` for the milk."
   ]
  },
  {
   "cell_type": "code",
   "execution_count": 27,
   "metadata": {},
   "outputs": [],
   "source": [
    "# Solution goes here\r\n",
    "def error_func(r, system):\r\n",
    "    system.r = r\r\n",
    "    results = run_simulation(system, change_func)\r\n",
    "    return system.T_final - 20"
   ]
  },
  {
   "cell_type": "code",
   "execution_count": 30,
   "metadata": {},
   "outputs": [
    {
     "data": {
      "text/plain": [
       "-1.500149245609034"
      ]
     },
     "execution_count": 30,
     "metadata": {},
     "output_type": "execute_result"
    }
   ],
   "source": [
    "# Solution goes here\r\n",
    "\r\n",
    "# with r = 0.1 we are about 1.5 degrees below the target\r\n",
    "error_func(0.1, milk)"
   ]
  },
  {
   "cell_type": "code",
   "execution_count": 31,
   "metadata": {},
   "outputs": [
    {
     "data": {
      "text/plain": [
       "1.4018656744898585"
      ]
     },
     "execution_count": 31,
     "metadata": {},
     "output_type": "execute_result"
    }
   ],
   "source": [
    "# with r = 0.2 we are about 1.4 degrees above the target\r\n",
    "error_func(0.2, milk)"
   ]
  },
  {
   "cell_type": "code",
   "execution_count": 32,
   "metadata": {},
   "outputs": [
    {
     "data": {
      "text/plain": [
       "0.1329607815660008"
      ]
     },
     "execution_count": 32,
     "metadata": {},
     "output_type": "execute_result"
    }
   ],
   "source": [
    "# Solution goes here\r\n",
    "\r\n",
    "# We know that r should be between 0.1 and 0.2 because the range of difference crosses zero\r\n",
    "res = root_scalar(error_func, milk, bracket=[0.1, 0.2])\r\n",
    "res.root"
   ]
  },
  {
   "cell_type": "code",
   "execution_count": 33,
   "metadata": {},
   "outputs": [
    {
     "data": {
      "text/plain": [
       "19.99999973050824"
      ]
     },
     "execution_count": 33,
     "metadata": {},
     "output_type": "execute_result"
    }
   ],
   "source": [
    "# check the calculated root value\r\n",
    "milk.r = res.root\r\n",
    "run_simulation(milk, change_func)\r\n",
    "milk.T_final"
   ]
  }
 ],
 "metadata": {
  "celltoolbar": "Tags",
  "interpreter": {
   "hash": "2dada4bffa0da632d20df77e8a0e74b73d401be8c4c7c4391624ad7fccea72fc"
  },
  "kernelspec": {
   "display_name": "Python 3.8.1 64-bit",
   "name": "python3"
  },
  "language_info": {
   "codemirror_mode": {
    "name": "ipython",
    "version": 3
   },
   "file_extension": ".py",
   "mimetype": "text/x-python",
   "name": "python",
   "nbconvert_exporter": "python",
   "pygments_lexer": "ipython3",
   "version": "3.8.1"
  }
 },
 "nbformat": 4,
 "nbformat_minor": 5
}